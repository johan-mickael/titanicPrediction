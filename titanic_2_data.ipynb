{
 "cells": [
  {
   "cell_type": "code",
   "execution_count": 4,
   "metadata": {},
   "outputs": [
    {
     "name": "stdout",
     "output_type": "stream",
     "text": [
      "Note: you may need to restart the kernel to use updated packages.\n",
      "snowflake-connector-python has been installed.\n"
     ]
    }
   ],
   "source": [
    "%run titanic_1_config.ipynb\n",
    "\n",
    "install_package('snowflake-connector-python')"
   ]
  },
  {
   "attachments": {},
   "cell_type": "markdown",
   "metadata": {},
   "source": [
    "### Importing required libraries"
   ]
  },
  {
   "attachments": {},
   "cell_type": "markdown",
   "metadata": {},
   "source": [
    "**Pandas** is a powerful library for data manipulation and analysis.\n",
    "\n",
    "`train_test_split` from `sklearn.model_selection` is used to split the dataset into training and testing subsets.\n",
    "\n",
    "`DecisionTreeClassifier` from `sklearn.tree` is the classification algorithm we'll use for our prediction task.\n",
    "\n",
    "`accuracy_score` from `sklearn.metrics` will be used to evaluate the accuracy of our model predictions."
   ]
  },
  {
   "cell_type": "code",
   "execution_count": 5,
   "metadata": {},
   "outputs": [],
   "source": [
    "import pandas as pd\n",
    "import numpy as np"
   ]
  },
  {
   "attachments": {},
   "cell_type": "markdown",
   "metadata": {},
   "source": [
    "### Loading the dataset"
   ]
  },
  {
   "cell_type": "code",
   "execution_count": 6,
   "metadata": {},
   "outputs": [
    {
     "name": "stderr",
     "output_type": "stream",
     "text": [
      "/tmp/ipykernel_15304/2994179729.py:14: UserWarning: pandas only supports SQLAlchemy connectable (engine/connection) or database string URI or sqlite3 DBAPI2 connection. Other DBAPI2 objects are not tested. Please consider using SQLAlchemy.\n",
      "  data = pd.read_sql(query, conn)\n"
     ]
    }
   ],
   "source": [
    "import snowflake.connector\n",
    "\n",
    "conn = snowflake.connector.connect(\n",
    "    user='MJOHAN',\n",
    "    password='Sn0wflakeJoh@n!*',\n",
    "    account='dz00380.uk-south.azure',\n",
    "    warehouse='COMPUTE_WH',\n",
    "    database='TITANIC',\n",
    "    schema='STATS'\n",
    ")\n",
    "\n",
    "# Execute the SQL query\n",
    "query = 'SELECT * FROM TITANIC_SURVIVALS'\n",
    "data = pd.read_sql(query, conn)"
   ]
  }
 ],
 "metadata": {
  "kernelspec": {
   "display_name": "Python 3",
   "language": "python",
   "name": "python3"
  },
  "language_info": {
   "codemirror_mode": {
    "name": "ipython",
    "version": 3
   },
   "file_extension": ".py",
   "mimetype": "text/x-python",
   "name": "python",
   "nbconvert_exporter": "python",
   "pygments_lexer": "ipython3",
   "version": "3.10.6"
  },
  "orig_nbformat": 4
 },
 "nbformat": 4,
 "nbformat_minor": 2
}
