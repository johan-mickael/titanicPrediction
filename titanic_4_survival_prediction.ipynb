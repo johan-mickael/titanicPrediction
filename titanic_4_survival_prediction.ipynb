{
 "cells": [
  {
   "cell_type": "code",
   "execution_count": 50,
   "metadata": {},
   "outputs": [
    {
     "name": "stdout",
     "output_type": "stream",
     "text": [
      "Note: you may need to restart the kernel to use updated packages.\n",
      "snowflake-connector-python has been installed.\n"
     ]
    },
    {
     "name": "stderr",
     "output_type": "stream",
     "text": [
      "/tmp/ipykernel_15467/2994179729.py:14: UserWarning: pandas only supports SQLAlchemy connectable (engine/connection) or database string URI or sqlite3 DBAPI2 connection. Other DBAPI2 objects are not tested. Please consider using SQLAlchemy.\n",
      "  data = pd.read_sql(query, conn)\n"
     ]
    },
    {
     "name": "stdout",
     "output_type": "stream",
     "text": [
      "Note: you may need to restart the kernel to use updated packages.\n",
      "scikit-learn has been installed.\n"
     ]
    }
   ],
   "source": [
    "%run titanic_2_data.ipynb\n",
    "\n",
    "install_package('scikit-learn')"
   ]
  },
  {
   "cell_type": "code",
   "execution_count": 51,
   "metadata": {},
   "outputs": [],
   "source": [
    "from sklearn.model_selection import train_test_split\n",
    "from sklearn.metrics import accuracy_score\n",
    "from sklearn.metrics import log_loss"
   ]
  },
  {
   "attachments": {},
   "cell_type": "markdown",
   "metadata": {},
   "source": [
    "### Data preprocessing"
   ]
  },
  {
   "cell_type": "code",
   "execution_count": 52,
   "metadata": {},
   "outputs": [],
   "source": [
    "# Select the features to be used for prediction\n",
    "features = ['PCLASS', 'SEX', 'AGE', 'SIBSP', 'PARCH']\n",
    "target = 'SURVIVED'"
   ]
  },
  {
   "cell_type": "code",
   "execution_count": 53,
   "metadata": {},
   "outputs": [],
   "source": [
    "# Remove unnecessary columns\n",
    "data = data.drop(['NAME', 'TICKET', 'FARE', 'CABIN', 'EMBARKED', 'BOAT', 'BODY', 'HOME_DEST'], axis=1)\n",
    "\n",
    "# Convert categorical variables to numerical\n",
    "data['SEX'] = data['SEX'].map({'male': 0, 'female': 1})"
   ]
  },
  {
   "attachments": {},
   "cell_type": "markdown",
   "metadata": {},
   "source": [
    "### Split the dataset into features and target"
   ]
  },
  {
   "cell_type": "code",
   "execution_count": 54,
   "metadata": {},
   "outputs": [],
   "source": [
    "# Handle missing values\n",
    "data[features] = data[features].fillna(data[features].mean())\n",
    "\n",
    "data[target] = data[target].fillna(data[target].mean()).astype(int)"
   ]
  },
  {
   "attachments": {},
   "cell_type": "markdown",
   "metadata": {},
   "source": [
    "Method for training the data"
   ]
  },
  {
   "cell_type": "code",
   "execution_count": 55,
   "metadata": {},
   "outputs": [],
   "source": [
    "def train(X, Y, model, train_size):\n",
    "    res = {}\n",
    "    x_train_subset, x_test_subset, y_train_subset, y_test_subset = train_test_split(X, Y, train_size=train_size, random_state=42)\n",
    "    model.fit(x_train_subset, y_train_subset)\n",
    "    y_pred_train_subset = model.predict(x_train_subset)\n",
    "    y_pred_test = model.predict(x_test_subset)\n",
    "    res['train_accuracy'] = accuracy_score(y_train_subset, y_pred_train_subset)\n",
    "    res['test_accuracy'] = accuracy_score(y_test_subset, y_pred_test)\n",
    "    y_pred_proba = model.predict_proba(x_test_subset)[:, 1]\n",
    "    res['loss'] = log_loss(y_test_subset, y_pred_proba)\n",
    "    return res"
   ]
  },
  {
   "attachments": {},
   "cell_type": "markdown",
   "metadata": {},
   "source": [
    "Utils methods to initialize needed curves data"
   ]
  },
  {
   "cell_type": "code",
   "execution_count": 56,
   "metadata": {},
   "outputs": [],
   "source": [
    "def generate_curve_data(X, Y, model, train_sizes):\n",
    "    train_accuracy_curve = []\n",
    "    test_accuracy_curve = []\n",
    "    loss_curve = []\n",
    "    for train_size in train_sizes:\n",
    "        res = train(X, Y, model, train_size)\n",
    "        train_accuracy_curve.append(res['train_accuracy'])\n",
    "        test_accuracy_curve.append(res['test_accuracy'])\n",
    "        loss_curve.append(res['loss'])\n",
    "    return {\n",
    "        'train_accuracy': train_accuracy_curve,\n",
    "        'test_accuracy': test_accuracy_curve,\n",
    "        'loss': loss_curve,\n",
    "    }"
   ]
  }
 ],
 "metadata": {
  "kernelspec": {
   "display_name": "Python 3",
   "language": "python",
   "name": "python3"
  },
  "language_info": {
   "codemirror_mode": {
    "name": "ipython",
    "version": 3
   },
   "file_extension": ".py",
   "mimetype": "text/x-python",
   "name": "python",
   "nbconvert_exporter": "python",
   "pygments_lexer": "ipython3",
   "version": "3.10.6"
  },
  "orig_nbformat": 4
 },
 "nbformat": 4,
 "nbformat_minor": 2
}
